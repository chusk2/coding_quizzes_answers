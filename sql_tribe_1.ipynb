{
 "cells": [
  {
   "cell_type": "markdown",
   "id": "e58937f3-e634-4e44-ba34-522b220a0a39",
   "metadata": {},
   "source": [
    "# Answer to quiz from [post](https://twitter.com/thesql_tribe/status/1732459043992612935) by [@thesql_tribe](https://twitter.com/thesql_tribe/) "
   ]
  },
  {
   "cell_type": "markdown",
   "id": "52ef7435-cdf4-45ca-8dfe-1cc78ed8cd80",
   "metadata": {},
   "source": [
    "## Create the values to insert in table `students`"
   ]
  },
  {
   "cell_type": "code",
   "execution_count": 2,
   "id": "bd76e531-43d5-48d9-b399-fce09aab610d",
   "metadata": {},
   "outputs": [],
   "source": [
    "first_name = 'Alice Bob Carol David Eve'.split(' ')"
   ]
  },
  {
   "cell_type": "code",
   "execution_count": 3,
   "id": "70d17f8b-ec43-4a0e-ab7d-2873c14d4d74",
   "metadata": {},
   "outputs": [],
   "source": [
    "last_name = 'Johson Smith Brown Lee Davis'.split(' ')"
   ]
  },
  {
   "cell_type": "code",
   "execution_count": 4,
   "id": "f56b0d10-a09a-4a71-97d4-4e5a95bf8450",
   "metadata": {},
   "outputs": [],
   "source": [
    "age = [20,22,21,23,20]\n",
    "GPA = [3.5, 3.8, 3.2, 3.9, 3.4]"
   ]
  },
  {
   "cell_type": "code",
   "execution_count": 6,
   "id": "1db23076-a836-42d4-b074-af52a0db010b",
   "metadata": {},
   "outputs": [],
   "source": [
    "students_values = tuple(zip(first_name, last_name, age, GPA))"
   ]
  },
  {
   "cell_type": "code",
   "execution_count": 10,
   "id": "5db71658-44b9-447e-9f0b-aacf6a59c9ad",
   "metadata": {},
   "outputs": [
    {
     "name": "stdout",
     "output_type": "stream",
     "text": [
      "('Alice', 'Johson', 20, 3.5),\n",
      "('Bob', 'Smith', 22, 3.8),\n",
      "('Carol', 'Brown', 21, 3.2),\n",
      "('David', 'Lee', 23, 3.9),\n",
      "('Eve', 'Davis', 20, 3.4)\n"
     ]
    }
   ],
   "source": [
    "print(*students_values, sep=',\\n')"
   ]
  },
  {
   "cell_type": "markdown",
   "id": "bd36aa8e-7e61-4a77-b83a-e1dff6873833",
   "metadata": {},
   "source": [
    "## Create the values to insert in table `courses`"
   ]
  },
  {
   "cell_type": "code",
   "execution_count": 12,
   "id": "5be5460b-6927-4f8f-bea4-6211d7266c7b",
   "metadata": {},
   "outputs": [],
   "source": [
    "course_id = list(range(101,106))"
   ]
  },
  {
   "cell_type": "code",
   "execution_count": 15,
   "id": "46257093-6e33-4721-8d85-3f7d1800ea28",
   "metadata": {},
   "outputs": [],
   "source": [
    "course_name = 'Math, English, History, Chemistry, Computer Science'.split(', ')"
   ]
  },
  {
   "cell_type": "code",
   "execution_count": 17,
   "id": "79d557cd-0e71-4d89-af97-ba54150cd4c4",
   "metadata": {},
   "outputs": [],
   "source": [
    "credits = [3,4,3,4,3]"
   ]
  },
  {
   "cell_type": "code",
   "execution_count": 18,
   "id": "a495c021-ad79-46f2-a57f-0a0a4bc6834f",
   "metadata": {},
   "outputs": [],
   "source": [
    "course_values = tuple( zip(course_id, course_name, credits) )"
   ]
  },
  {
   "cell_type": "code",
   "execution_count": 19,
   "id": "a2073580-7697-4f2f-8036-ad6fbefdc145",
   "metadata": {},
   "outputs": [
    {
     "name": "stdout",
     "output_type": "stream",
     "text": [
      "(101, 'Math', 3),\n",
      "(102, 'English', 4),\n",
      "(103, 'History', 3),\n",
      "(104, 'Chemistry', 4),\n",
      "(105, 'Computer Science', 3)\n"
     ]
    }
   ],
   "source": [
    "print(*course_values, sep=',\\n')"
   ]
  },
  {
   "cell_type": "markdown",
   "id": "41aa0ef8-08b2-4120-999f-26169afbc63d",
   "metadata": {},
   "source": [
    "## Create the values to insert in table `enrollments`"
   ]
  },
  {
   "cell_type": "code",
   "execution_count": 20,
   "id": "100a323c-3d06-4f90-a8f3-e491e508fa12",
   "metadata": {},
   "outputs": [],
   "source": [
    "student_id = [1,2,3,1,2]"
   ]
  },
  {
   "cell_type": "code",
   "execution_count": 21,
   "id": "b8c4d764-b406-44ad-a396-2bd40cea089e",
   "metadata": {},
   "outputs": [],
   "source": [
    "course_id = list(range(101,106))"
   ]
  },
  {
   "cell_type": "code",
   "execution_count": 26,
   "id": "fbac247b-587b-4f16-b6e7-e21b1d1c65ba",
   "metadata": {},
   "outputs": [],
   "source": [
    "semester = ['Fall 2022'] * 3 + ['Spring 2023'] * 2"
   ]
  },
  {
   "cell_type": "code",
   "execution_count": 28,
   "id": "4bf71c6b-f18a-4912-9577-27952c2cd743",
   "metadata": {},
   "outputs": [],
   "source": [
    "enrollments_values = tuple( zip(student_id, course_id, semester) )"
   ]
  },
  {
   "cell_type": "code",
   "execution_count": 29,
   "id": "f6bdc4fe-9fa7-452b-8f6f-a42dc0f7e140",
   "metadata": {},
   "outputs": [
    {
     "name": "stdout",
     "output_type": "stream",
     "text": [
      "(1, 101, 'Fall 2022'),\n",
      "(2, 102, 'Fall 2022'),\n",
      "(3, 103, 'Fall 2022'),\n",
      "(1, 104, 'Spring 2023'),\n",
      "(2, 105, 'Spring 2023')\n"
     ]
    }
   ],
   "source": [
    "print(*enrollments_values, sep=',\\n')"
   ]
  }
 ],
 "metadata": {
  "kernelspec": {
   "display_name": "Python 3 (ipykernel)",
   "language": "python",
   "name": "python3"
  },
  "language_info": {
   "codemirror_mode": {
    "name": "ipython",
    "version": 3
   },
   "file_extension": ".py",
   "mimetype": "text/x-python",
   "name": "python",
   "nbconvert_exporter": "python",
   "pygments_lexer": "ipython3",
   "version": "3.11.6"
  }
 },
 "nbformat": 4,
 "nbformat_minor": 5
}
